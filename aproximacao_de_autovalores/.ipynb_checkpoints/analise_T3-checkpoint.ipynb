{
 "cells": [
  {
   "cell_type": "markdown",
   "metadata": {},
   "source": [
    "# Bibliotecas"
   ]
  },
  {
   "cell_type": "code",
   "execution_count": 20,
   "metadata": {},
   "outputs": [],
   "source": [
    "import numpy as np\n",
    "import pandas as pd\n",
    "import seaborn as sns\n",
    "import matplotlib as plt\n",
    "from scipy.io import mmread\n",
    "from scipy import sparse as scs\n",
    "import time\n",
    "import sys\n",
    "from T3 import (ProdutoVetorMatrizCOO, OrdenaCOO)"
   ]
  },
  {
   "cell_type": "markdown",
   "metadata": {},
   "source": [
    "## Importando as matrizes baixadas"
   ]
  },
  {
   "cell_type": "markdown",
   "metadata": {},
   "source": [
    "As matrizes são:\n",
    "* 494_bus/494_bus.mtx -> *Algo estranho nessa aqui*\n",
    "* bcsstm20/bcsstm20.mtx -> *Da para usar*\n",
    "* bcsstk10/bcsstk10.mtx -> *Bateu*\n",
    "* bcsstk05/bcsstk05.mtx -> *Bateu*\n",
    "* mesh1em6/mesh1em6.mtx -> *Bateu*\n",
    "* mesh1e1/mesh1e1.mtx -> *Bateu*\n",
    "* mesh2e1/mesh2e1.mtx -> *Bateu*\n",
    "* Trefethen_20/Trefethen_20.mtx -> *Bateu*\n",
    "* Trefethen_700/Trefethen_700.mtx -> *Bateu, ótimo exemplo* \n",
    "* nos4/nos4.mtx -> *Bateu* \n",
    "* nasa1824/nasa1824.mtx -> *Bateu*\n",
    "* ex33/ex33.mtx -> *Algo estranho aqui tambem* "
   ]
  },
  {
   "cell_type": "code",
   "execution_count": 2,
   "metadata": {},
   "outputs": [],
   "source": [
    "# Le o arquivo e ordena a representação COO da matriz esparsa por linha\n",
    "sparse_matrix_coo = mmread(\"Trefethen_20/Trefethen_20.mtx\")\n",
    "# Gera a forma completa da matriz esparsa\n",
    "matriz = sparse_matrix_coo.toarray()\n",
    "# Gera um array de todas as posições \"j\" com elementos não nulos\n",
    "rows, cols = OrdenaCOO(matriz)\n",
    "# Vetor inicial\n",
    "x = np.ones(len(matriz))"
   ]
  },
  {
   "cell_type": "code",
   "execution_count": 3,
   "metadata": {},
   "outputs": [
    {
     "name": "stdout",
     "output_type": "stream",
     "text": [
      "Não nulos: 158\n",
      "Esparsidade:  0.605\n",
      "Tamanho da matriz:  20\n"
     ]
    }
   ],
   "source": [
    "print(\"Não nulos:\", len(rows))\n",
    "print(\"Esparsidade: \", 1 - (len(rows) / (matriz.shape[0]*matriz.shape[1])))\n",
    "print(\"Tamanho da matriz: \", len(matriz))"
   ]
  },
  {
   "cell_type": "markdown",
   "metadata": {},
   "source": [
    "## Matrizes de teste"
   ]
  },
  {
   "cell_type": "code",
   "execution_count": 4,
   "metadata": {},
   "outputs": [],
   "source": [
    "# Matriz de teste\n",
    "matriz_teste = np.array([(4.,-1.,1.),(-1.,3.,-2.),(1.,-2.,3.)])\n",
    "# Formato COO da matriz de teste\n",
    "rows_teste, cols_teste = OrdenaCOO(matriz_teste)\n",
    "# Vetor inicial\n",
    "x_teste = np.array([1,0,0])"
   ]
  },
  {
   "cell_type": "code",
   "execution_count": 5,
   "metadata": {},
   "outputs": [],
   "source": [
    "# Matriz de teste\n",
    "matriz_teste = np.array([(-4.,14.,0.),(-5.,13.,0.),(-1.,0.,2.)])\n",
    "# Formato COO da matriz de teste\n",
    "rows_teste, cols_teste = OrdenaCOO(matriz_teste)\n",
    "# Vetor inicial\n",
    "x_teste = np.array([1,1,1])"
   ]
  },
  {
   "cell_type": "markdown",
   "metadata": {},
   "source": [
    "# Estimativa do raio espectral da matriz"
   ]
  },
  {
   "cell_type": "markdown",
   "metadata": {},
   "source": [
    "## Método da potencia"
   ]
  },
  {
   "cell_type": "markdown",
   "metadata": {},
   "source": [
    "Função de busca da norma infinita do vetor"
   ]
  },
  {
   "cell_type": "code",
   "execution_count": 19,
   "metadata": {},
   "outputs": [],
   "source": [
    "def Busca(x):\n",
    "    p = 0\n",
    "    max = abs(x[p])\n",
    "    for i in range(len(x)):\n",
    "        if abs(x[i]) > max:\n",
    "            p = i\n",
    "    return p"
   ]
  },
  {
   "cell_type": "markdown",
   "metadata": {},
   "source": [
    "Caracteristicas gerais"
   ]
  },
  {
   "cell_type": "code",
   "execution_count": 18,
   "metadata": {},
   "outputs": [],
   "source": [
    "tol = 10**(-3)\n",
    "max_it = 300"
   ]
  },
  {
   "cell_type": "markdown",
   "metadata": {},
   "source": [
    "### Método da potencia simples"
   ]
  },
  {
   "cell_type": "code",
   "execution_count": 17,
   "metadata": {},
   "outputs": [],
   "source": [
    "def MetodoDaPotencia(matriz, rows, cols, x, tol, max_it):\n",
    "    k = 1\n",
    "    x_aux = x.copy()\n",
    "    p = Busca(x_aux)\n",
    "    x_aux = x_aux / x_aux[p]\n",
    "    while k <= max_it:\n",
    "        y = ProdutoVetorMatrizCOO(matriz, rows, cols, x_aux)\n",
    "        mu = y[p]\n",
    "        p = Busca(y)\n",
    "        if y[p] == 0:\n",
    "            return (0, x_aux, k)\n",
    "        ERR = max(x_aux - (y / y[p]))\n",
    "        x_aux = y / y[p]\n",
    "        if ERR < tol:\n",
    "            return (mu, x_aux, k)\n",
    "        k = k + 1\n",
    "    return (mu, x_aux, k)"
   ]
  },
  {
   "cell_type": "markdown",
   "metadata": {},
   "source": [
    "Aplicando na matriz do EP"
   ]
  },
  {
   "cell_type": "code",
   "execution_count": 16,
   "metadata": {},
   "outputs": [],
   "source": [
    "# tempo_1_mp = time.time()\n",
    "# mu_mp, x_mp, k_mp = MetodoDaPotencia(matriz, rows, cols, x, tol, max_it)\n",
    "# tempo_2_mp = time.time()\n",
    "# delta_mp = tempo_2_mp - tempo_1_mp\n",
    "# print(\"delta: \", delta_mp)\n",
    "# print(\"lambda: \", mu_mp)\n",
    "# print(\"k: \", k_mp)"
   ]
  },
  {
   "cell_type": "markdown",
   "metadata": {},
   "source": [
    "Aplicando na matriz de teste"
   ]
  },
  {
   "cell_type": "code",
   "execution_count": 10,
   "metadata": {},
   "outputs": [],
   "source": [
    "# MetodoDaPotencia(matriz_teste, rows_teste, cols_teste, x_teste, tol, max_it)"
   ]
  },
  {
   "cell_type": "markdown",
   "metadata": {},
   "source": [
    "### Método da potência modificado"
   ]
  },
  {
   "cell_type": "code",
   "execution_count": 15,
   "metadata": {},
   "outputs": [],
   "source": [
    "def MetodoDaPotenciaModificado(matriz, rows, cols, x, tol, max_it):\n",
    "    k = 1\n",
    "    mu_0 = 0\n",
    "    mu_1 = 0\n",
    "    x_aux = x.copy()\n",
    "    p = Busca(x_aux)\n",
    "    x_aux = x_aux / x_aux[p]\n",
    "    while k <= max_it:\n",
    "        y = ProdutoVetorMatrizCOO(matriz, rows, cols, x_aux)\n",
    "        mu_2 = y[p]\n",
    "        mu = mu_0 - ((mu_1 - mu_0) ** 2) / (mu_2 - 2*mu_1 + mu_0)\n",
    "        p = Busca(y)\n",
    "        if y[p] == 0:\n",
    "            return (0, x_aux, k)\n",
    "        ERR = max(x_aux - (y / y[p]))\n",
    "        x_aux = y / y[p]\n",
    "#         print(x_aux)\n",
    "        if ERR < tol:\n",
    "            return (mu, x_aux, k)\n",
    "        k = k + 1\n",
    "        mu_0 = mu_1\n",
    "        mu_1 = mu_2\n",
    "    return (mu, x_aux, k)"
   ]
  },
  {
   "cell_type": "markdown",
   "metadata": {},
   "source": [
    "Aplicando na matriz do EP"
   ]
  },
  {
   "cell_type": "code",
   "execution_count": 14,
   "metadata": {},
   "outputs": [],
   "source": [
    "# tempo_1_mpm = time.time()\n",
    "# mu_mpm, x_mpm, k_mpm = MetodoDaPotenciaModificado(matriz, rows, cols, x, tol, max_it)\n",
    "# tempo_2_mpm = time.time()\n",
    "# delta_mpm = tempo_2_mpm - tempo_1_mpm\n",
    "# print(\"delta: \", delta_mpm)\n",
    "# print(\"lambda: \", mu_mpm)\n",
    "# print(\"k: \", k_mpm)"
   ]
  },
  {
   "cell_type": "markdown",
   "metadata": {},
   "source": [
    "Aplicando na matriz de teste"
   ]
  },
  {
   "cell_type": "code",
   "execution_count": 13,
   "metadata": {},
   "outputs": [],
   "source": [
    "# MetodoDaPotenciaModificado(matriz_teste, rows_teste, cols_teste, x_teste, tol, max_it)"
   ]
  },
  {
   "cell_type": "markdown",
   "metadata": {},
   "source": [
    "### Método da potência simétrico"
   ]
  },
  {
   "cell_type": "code",
   "execution_count": 13,
   "metadata": {},
   "outputs": [],
   "source": [
    "def MetodoDaPotenciaSimetrico(matriz, rows, cols, x, tol, max_it):\n",
    "    k = 1\n",
    "    mu_0 = 0\n",
    "    mu_1 = 0\n",
    "    x_aux = x.copy()\n",
    "    x_aux = x_aux / ((sum(x_aux**2))**(1/2))\n",
    "    while k <= max_it:\n",
    "        y = ProdutoVetorMatrizCOO(matriz, rows, cols, x_aux)\n",
    "        mu_2 = x_aux.dot(y)\n",
    "        mu = mu_0 - ((mu_1 - mu_0) ** 2) / (mu_2 - 2*mu_1 + mu_0)\n",
    "        if (sum(y**2))**(1/2) == 0:\n",
    "            return (0, x_aux, k)\n",
    "        ERR_aux = (x_aux - (y / ((sum(y**2))**(1/2))))\n",
    "        ERR = (sum(ERR_aux**2))**(1/2)\n",
    "        x_aux = y / ((sum(y**2))**(1/2))\n",
    "#         print(\"\\ny: \", y)\n",
    "#         print(\"x: \", x_aux)\n",
    "        if ERR < tol:\n",
    "            return (mu, x_aux, k)\n",
    "        k = k + 1\n",
    "        mu_0 = mu_1\n",
    "        mu_1 = mu_2\n",
    "    return (mu, x_aux, k)"
   ]
  },
  {
   "cell_type": "markdown",
   "metadata": {},
   "source": [
    "Aplicando na matriz do EP"
   ]
  },
  {
   "cell_type": "code",
   "execution_count": 12,
   "metadata": {},
   "outputs": [],
   "source": [
    "# tempo_1_mps = time.time()\n",
    "# mu_mps, x_mps, k_mps = MetodoDaPotenciaSimetrico(matriz, rows, cols, x, tol, max_it)\n",
    "# tempo_2_mps = time.time()\n",
    "# delta_mps = tempo_2_mps - tempo_1_mps\n",
    "# print(\"delta: \", delta_mps)\n",
    "# print(\"lambda: \", mu_mps)\n",
    "# print(\"k: \", k_mps)"
   ]
  },
  {
   "cell_type": "markdown",
   "metadata": {},
   "source": [
    "Aplicando na matriz de teste"
   ]
  },
  {
   "cell_type": "code",
   "execution_count": 16,
   "metadata": {},
   "outputs": [],
   "source": [
    "# MetodoDaPotenciaSimetrico(matriz_teste, rows_teste, cols_teste, x_teste, tol, max_it)"
   ]
  },
  {
   "cell_type": "markdown",
   "metadata": {},
   "source": [
    "### Metodo da potência inversa"
   ]
  },
  {
   "cell_type": "markdown",
   "metadata": {},
   "source": [
    "Considerações:\n",
    "* Matrizes na forma COO"
   ]
  },
  {
   "cell_type": "code",
   "execution_count": 17,
   "metadata": {},
   "outputs": [],
   "source": [
    "# def CalculaResultadoMatrizSuperior(matriz, b, n):\n",
    "#     '''Recebe uma matriz triangular superior e um vetor 'b', e retorna o vetor 'x' do sistema Ax = b'''\n",
    "#     x = np.array([0.0] * (n+1))\n",
    "#     linha = n\n",
    "#     if matriz[n][n] == 0: return None\n",
    "#     x[n] = b[linha] / matriz[linha][linha]\n",
    "#     linha -= 1\n",
    "#     while 0 <= linha:\n",
    "#         coef_aux = 0\n",
    "#         linha_aux = linha + 1\n",
    "#         while linha_aux <= n:\n",
    "#             coef_aux += matriz[linha][linha_aux] * x[linha_aux]\n",
    "#             linha_aux += 1\n",
    "#         x[linha] = (b[linha] - coef_aux) / matriz[linha][linha]\n",
    "#         linha -= 1\n",
    "#     return x"
   ]
  },
  {
   "cell_type": "code",
   "execution_count": 18,
   "metadata": {},
   "outputs": [],
   "source": [
    "# def CalculaResultadoMatrizInferior(matriz, b, n):\n",
    "#     '''Recebe uma matriz triangular inferior e um vetor 'b', e retorna o vetor 'x' do sistema Ax = b'''\n",
    "#     x = np.array([0.0] * (n+1))\n",
    "#     linha = 0\n",
    "#     if matriz[0][0] == 0: return None\n",
    "#     x[0] = b[linha] / matriz[linha][linha]\n",
    "#     linha =+ 1\n",
    "#     while linha <= n:\n",
    "#         coef_aux = 0\n",
    "#         linha_aux = linha - 1\n",
    "#         while 0 <= linha_aux:\n",
    "#             coef_aux += matriz[linha][linha_aux] * x[linha_aux]\n",
    "#             linha_aux -= 1\n",
    "#         x[linha] = (b[linha] - coef_aux) / matriz[linha][linha]\n",
    "#         linha += 1\n",
    "#     return x"
   ]
  },
  {
   "cell_type": "code",
   "execution_count": 19,
   "metadata": {},
   "outputs": [],
   "source": [
    "# def DecomposicaoLU(matriz, i):\n",
    "#     '''Recebe uma matriz e realiza a decomposição LU da mesma, retornando as matrizes L, U e P, onde P é a matriz permutação'''\n",
    "#     matriz_aux = matriz.copy()\n",
    "#     L = np.identity(i)\n",
    "#     P = np.identity(i)\n",
    "#     p = 0\n",
    "#     linha = 0\n",
    "#     try:\n",
    "#         while linha < (i-1):\n",
    "#             if matriz_aux[p][linha] == 0:\n",
    "#                 if p == i: return (None, None, None)\n",
    "#                 p += 1\n",
    "#                 continue\n",
    "#             if p != linha:\n",
    "#                 matriz_aux[(linha,p),:] = matriz_aux[(p,linha),:]\n",
    "#                 P[(linha,p),:] = P[(p,linha),:]\n",
    "#             linha_final = linha + 1\n",
    "#             while linha_final < i:\n",
    "#                 m = matriz_aux[linha_final][linha] / matriz_aux[linha][linha]\n",
    "# #                 print(\"\\nlinha: \", linha_final)\n",
    "# #                 print(\"coluna: \", linha)\n",
    "# #                 print(m)\n",
    "#                 L[linha_final][linha] = m\n",
    "# #                 print(\"matriz antes: \\n\", matriz_aux)\n",
    "#                 matriz_aux[linha_final] = matriz_aux[linha_final] - m*matriz_aux[linha]\n",
    "# #                 print(\"matriz depois: \\n\", matriz_aux)\n",
    "#                 linha_final += 1\n",
    "#             linha += 1\n",
    "#             p = linha\n",
    "#     except:\n",
    "#         print(\"Erro no metodo sem pivotamento, na matriz de ordem: \", i, \"\\n\")\n",
    "#         return (None, None, None)\n",
    "#     return (L, matriz_aux, P)"
   ]
  },
  {
   "cell_type": "code",
   "execution_count": 20,
   "metadata": {},
   "outputs": [],
   "source": [
    "# L, U, P = DecomposicaoLU(matriz_teste, len(matriz_teste))\n",
    "# print(\"\\n\", matriz_teste)\n",
    "# print(\"\\n\", L)\n",
    "# print(\"\\n\", U)\n",
    "# print(\"\\n\", P)\n",
    "# print(\"\\n\", (L.dot(U)))\n",
    "# b = np.array([4,0,2], dtype=float)\n",
    "# print(\"\\nb = \", b)\n",
    "# c = CalculaResultadoMatrizInferior(L, b, len(L)-1)\n",
    "# print(\"vetor auxiliar: \",c)\n",
    "# x = CalculaResultadoMatrizSuperior(U, c, len(U)-1)\n",
    "# print(\"vetor x: \", x)"
   ]
  },
  {
   "cell_type": "code",
   "execution_count": 21,
   "metadata": {},
   "outputs": [],
   "source": [
    "# def AproximacaoAutoValorDominante(matriz):\n",
    "#     '''Aproxima o auto-valor dominante usando o circulo de Gersgorin'''\n",
    "#     q = 0\n",
    "#     limite_inferior = 0\n",
    "#     limite_superior = 0\n",
    "#     for i in range(len(matriz)):\n",
    "#         somatoria = 0\n",
    "#         for j in range(len(matriz[0])):\n",
    "#             if j != i:\n",
    "#                 somatoria += abs(matriz[i][j])\n",
    "#             limite_inferior = matriz[i][i] - somatoria\n",
    "#             limite_superior = somatoria + matriz[i][i]\n",
    "#             if limite_superior > q: q = limite_superior\n",
    "#     return q + 1"
   ]
  },
  {
   "cell_type": "code",
   "execution_count": 11,
   "metadata": {},
   "outputs": [],
   "source": [
    "def AproximacaoAutoValorDominante(matriz, rows, cols):\n",
    "    '''Aproxima o auto-valor dominante usando o circulo de Gersgorin, usando o formato COO da matriz'''\n",
    "    q = 0\n",
    "    limite_inferior = 0\n",
    "    limite_superior = 0\n",
    "    somatoria = 0\n",
    "    a,i,j = (0,0,0)\n",
    "    while i < len(rows):\n",
    "        if rows[i] == j and rows[i] != cols[i]:\n",
    "            somatoria += abs(matriz[rows[i]][cols[i]])\n",
    "            i += 1\n",
    "            continue\n",
    "        if rows[i] == j and rows[i] == cols[i]:\n",
    "            a = matriz[rows[i]][cols[i]]\n",
    "            i += 1\n",
    "            continue\n",
    "        limite_inferior = a - somatoria\n",
    "        limite_superior = somatoria + a\n",
    "        if limite_superior > q: q = limite_superior\n",
    "        j += 1\n",
    "        somatoria = 0\n",
    "    return q + 1"
   ]
  },
  {
   "cell_type": "markdown",
   "metadata": {},
   "source": [
    "#### Norma infinito"
   ]
  },
  {
   "cell_type": "code",
   "execution_count": 10,
   "metadata": {},
   "outputs": [],
   "source": [
    "def MetodoDaPotenciaInversaNormaInfinito(matriz, rows, cols, x, tol, max_it):\n",
    "    mu_0 = 0\n",
    "    mu_1 = 0\n",
    "    n = len(matriz)\n",
    "    x_aux = x.copy()\n",
    "    matriz_aux = matriz.copy()\n",
    "    # Usando o circulo de Gersgorin\n",
    "    q = AproximacaoAutoValorDominante(matriz, rows, cols)\n",
    "    k = 1\n",
    "    p = Busca(x_aux)\n",
    "    x_aux = x_aux / x_aux[p]\n",
    "    B = (matriz_aux - q*np.identity(n))\n",
    "    while k <= max_it:\n",
    "        y = np.linalg.solve(B, x_aux)\n",
    "        if np.array(y).any == None:\n",
    "            return (mu, x_aux, k)\n",
    "        mu_2 = y[p]\n",
    "        mu = mu_0 - ((mu_1 - mu_0) ** 2) / (mu_2 - 2*mu_1 + mu_0)\n",
    "        p = Busca(y)\n",
    "        ERR = max(x_aux - (y/y[p]))\n",
    "        x_aux = y / y[p]\n",
    "        if ERR < tol:\n",
    "            mu = (1/mu) + q\n",
    "            return (mu, x_aux, k)\n",
    "        k += 1\n",
    "        mu_0 = mu_1\n",
    "        mu_1 = mu_2\n",
    "    return (mu, x_aux, k)"
   ]
  },
  {
   "cell_type": "code",
   "execution_count": 24,
   "metadata": {},
   "outputs": [],
   "source": [
    "# def MetodoDaPotenciaInversaNormaInfinito2(matriz, rows, cols, x, tol, max_it):\n",
    "#     mu_0 = 0\n",
    "#     mu_1 = 0\n",
    "#     n = len(matriz)\n",
    "#     x_aux = x.copy()\n",
    "#     matriz_aux = matriz.copy()\n",
    "#     # Usando o circulo de Gersgorin\n",
    "#     q = AproximacaoAutoValorDominante(matriz, rows, cols)\n",
    "#     k = 1\n",
    "#     p = Busca(x_aux)\n",
    "#     x_aux = x_aux / x_aux[p]\n",
    "#     B = (matriz_aux - q*np.identity(n))\n",
    "#     L, U, P = DecomposicaoLU(B, len(B))\n",
    "# #     print(\"\\nL:\\n \", L)\n",
    "# #     print(\"\\nU:\\n \", U)\n",
    "# #     print(\"\\nP:\\n \", P)\n",
    "#     while k <= max_it:\n",
    "# #         y = np.linalg.solve(B, x_aux)\n",
    "#         c = CalculaResultadoMatrizInferior(L, x_aux, len(L)-1)\n",
    "#         y = CalculaResultadoMatrizSuperior(U, c, len(U)-1)\n",
    "#         if np.array(y).any == None:\n",
    "#             return (mu, x_aux, k)\n",
    "#         mu_2 = y[p]\n",
    "#         mu = mu_0 - ((mu_1 - mu_0) ** 2) / (mu_2 - 2*mu_1 + mu_0)\n",
    "#         p = Busca(y)\n",
    "#         ERR = max(x_aux - (y/y[p]))\n",
    "#         x_aux = y / y[p]\n",
    "#         if ERR < tol:\n",
    "#             mu = (1/mu) + q\n",
    "#             return (mu, x_aux, k)\n",
    "#         k += 1\n",
    "#         mu_0 = mu_1\n",
    "#         mu_1 = mu_2\n",
    "#     return (mu, x_aux, k)"
   ]
  },
  {
   "cell_type": "markdown",
   "metadata": {},
   "source": [
    "#### Norma 2"
   ]
  },
  {
   "cell_type": "code",
   "execution_count": 9,
   "metadata": {},
   "outputs": [],
   "source": [
    "def MetodoDaPotenciaInversaNorma2(matriz, rows, cols, x, tol, max_it):\n",
    "    mu_0 = 0\n",
    "    mu_1 = 0\n",
    "    n = len(matriz)\n",
    "    x_aux = x.copy()\n",
    "    matriz_aux = matriz.copy()\n",
    "    k = 1\n",
    "    # Usando o circulo de Gersgorin\n",
    "    q = AproximacaoAutoValorDominante(matriz, rows, cols)\n",
    "    x_aux = x_aux / ((sum(x_aux**2))**(1/2))\n",
    "#     B = (matriz_aux - q*np.identity(n))\n",
    "    B = scs.csr_matrix(matriz_aux - q*np.identity(n))\n",
    "    while k <= max_it:\n",
    "#         y = np.linalg.solve(B, x_aux)\n",
    "        y = scs.linalg.spsolve(B,x_aux)\n",
    "        if np.array(y).any == None:\n",
    "            return (mu, x_aux, k)\n",
    "        mu_2 = y.dot(x_aux)\n",
    "        mu = mu_0 - ((mu_1 - mu_0) ** 2) / (mu_2 - 2*mu_1 + mu_0)\n",
    "        ERR_aux = x_aux + (y / ((sum(y**2))**(1/2)))\n",
    "        ERR = (sum(ERR_aux**2))**(1/2)\n",
    "        x_aux = y / ((sum(y**2))**(1/2))\n",
    "#         print(\"\\ny: \", y)\n",
    "#         print(\"x: \", x_aux)\n",
    "        if ERR < tol:\n",
    "            mu = (1/mu) + q\n",
    "            return (mu, x_aux, k)\n",
    "        k += 1\n",
    "        mu_0 = mu_1\n",
    "        mu_1 = mu_2\n",
    "    return (mu, x_aux, k)"
   ]
  },
  {
   "cell_type": "markdown",
   "metadata": {},
   "source": [
    "Aplicando na matriz do EP"
   ]
  },
  {
   "cell_type": "code",
   "execution_count": 8,
   "metadata": {},
   "outputs": [],
   "source": [
    "# tempo_1_mpi = time.time()\n",
    "# mu_mpi, x_mpi, k_mpi = MetodoDaPotenciaInversaNormaInfinito(matriz, rows, cols, x, tol, max_it)\n",
    "# tempo_2_mpi = time.time()\n",
    "# delta_mpi = tempo_2_mpi - tempo_1_mpi\n",
    "# print(\"delta: \", delta_mpi)\n",
    "# print(\"lambda: \", mu_mpi)\n",
    "# print(\"k: \", k_mpi)"
   ]
  },
  {
   "cell_type": "code",
   "execution_count": 7,
   "metadata": {},
   "outputs": [],
   "source": [
    "# tempo_1_mpi = time.time()\n",
    "# mu_mpi_1, x_mpi_1, k_mpi_1 = MetodoDaPotenciaInversaNorma2(matriz, rows, cols, x, tol, max_it)\n",
    "# tempo_2_mpi = time.time()\n",
    "# delta_mpi_1 = tempo_2_mpi - tempo_1_mpi\n",
    "# print(\"delta: \", delta_mpi_1)\n",
    "# print(\"lambda: \", mu_mpi_1)\n",
    "# print(\"k: \", k_mpi_1)"
   ]
  },
  {
   "cell_type": "markdown",
   "metadata": {},
   "source": [
    "Aplicando na matriz de teste"
   ]
  },
  {
   "cell_type": "code",
   "execution_count": 28,
   "metadata": {},
   "outputs": [],
   "source": [
    "# mu_mpi_3, x_mpi_3, k_mpi_3 = MetodoDaPotenciaInversaNormaInfinito(matriz_teste, rows_teste, cols_teste, x_teste, tol, max_it)\n",
    "# print(\"\\nlambda: \", mu_mpi_3)\n",
    "# print(\"k: \", k_mpi_3)\n",
    "# print(\"x: \", x_mpi_3)"
   ]
  },
  {
   "cell_type": "code",
   "execution_count": 29,
   "metadata": {},
   "outputs": [],
   "source": [
    "# mu_mpi_4, x_mpi_4, k_mpi_4 = MetodoDaPotenciaInversaNorma2(matriz_teste, rows_teste, cols_teste, x_teste, tol, max_it)\n",
    "# print(\"\\nlambda: \", mu_mpi_4)\n",
    "# print(\"k: \", k_mpi_4)\n",
    "# print(\"x: \", x_mpi_4)"
   ]
  },
  {
   "cell_type": "markdown",
   "metadata": {},
   "source": [
    "# Estimativa do espectro completo"
   ]
  },
  {
   "cell_type": "code",
   "execution_count": 6,
   "metadata": {},
   "outputs": [],
   "source": [
    "def DecomposiçãoQR(matriz):\n",
    "    T = matriz.copy()\n",
    "    U = np.identity(len(matriz))\n",
    "#     U = scs.identity(len(matriz))\n",
    "    i = 0\n",
    "    while i < 60:\n",
    "        Q,R = np.linalg.qr(T)\n",
    "#         Q = scs.csr_matrix(Q)\n",
    "#         R = scs.csr_matrix(R)\n",
    "#         T = R.dot(Q).toarray()\n",
    "        T = R.dot(Q)\n",
    "        U = U.dot(Q)\n",
    "        i += 1\n",
    "    return (T,U)"
   ]
  },
  {
   "cell_type": "code",
   "execution_count": 5,
   "metadata": {},
   "outputs": [],
   "source": [
    "# time_1 = time.time()\n",
    "# T, U = DecomposiçãoQR(matriz)\n",
    "# time_2 = time.time()\n",
    "# print(\"delta:\", time_2 - time_1)"
   ]
  },
  {
   "cell_type": "code",
   "execution_count": 4,
   "metadata": {},
   "outputs": [],
   "source": [
    "# raio_espectral = 0\n",
    "# for i in range(len(T)):\n",
    "#     if abs(T[i][i]) > raio_espectral:\n",
    "#         raio_espectral = T[i][i]\n",
    "#     print(\"auto-valor\", i, \":\", T[i][i])\n",
    "# print(\"\\nRaio espectral: \", raio_espectral)"
   ]
  },
  {
   "cell_type": "markdown",
   "metadata": {},
   "source": [
    "# Gerando o DataFrame e os gráficos"
   ]
  },
  {
   "cell_type": "code",
   "execution_count": 3,
   "metadata": {},
   "outputs": [],
   "source": [
    "# matrizes = [\"bcsstm20/bcsstm20.mtx\", \"bcsstk10/bcsstk10.mtx\", \"bcsstk05/bcsstk05.mtx\", \"mesh1em6/mesh1em6.mtx\",\n",
    "#             \"mesh1e1/mesh1e1.mtx\", \"mesh2e1/mesh2e1.mtx\", \"Trefethen_20/Trefethen_20.mtx\", \"Trefethen_700/Trefethen_700.mtx\",\n",
    "#             \"nos4/nos4.mtx\", \"nasa1824/nasa1824.mtx\"]\n",
    "# nao_nulos = []\n",
    "# esparsidade = []\n",
    "# tamanho = []\n",
    "# tempos_mps = []\n",
    "# tempos_mpi = []\n",
    "# tempos_qr = []\n",
    "# inter_mps = []\n",
    "# inter_mpi = []\n",
    "# raio_esp_mps = []\n",
    "# raio_esp_mpi = []\n",
    "# raio_esp_qr = []\n",
    "# menor_autoValor_qr = []\n",
    "# for nome_matriz in matrizes:\n",
    "#     # Le o arquivo e ordena a representação COO da matriz esparsa por linha\n",
    "#     sparse_matrix_coo = mmread(\"./\" + nome_matriz)\n",
    "#     # Gera a forma completa da matriz esparsa\n",
    "#     matriz = sparse_matrix_coo.toarray()\n",
    "#     # Gera um array de todas as posições \"j\" com elementos não nulos\n",
    "#     rows, cols = OrdenaCOO(matriz)\n",
    "#     # Vetor inicial\n",
    "#     x = np.ones(len(matriz))\n",
    "#     print(\"\\nmatriz: \", nome_matriz)\n",
    "#     print(\"Não nulos:\", len(rows))\n",
    "#     print(\"Esparsidade: \", 1 - (len(rows) / (matriz.shape[0]*matriz.shape[1])))\n",
    "#     print(\"Tamanho da matriz: \", len(matriz))\n",
    "#     nao_nulos.append(len(rows))\n",
    "#     esparsidade.append(1 - (len(rows) / (matriz.shape[0]*matriz.shape[1])))\n",
    "#     tamanho.append(len(matriz))\n",
    "#     # Configurações\n",
    "#     tol = 10**(-3)\n",
    "#     max_it = 300\n",
    "#     # Aplicando o metodo da potência simétrico\n",
    "#     tempo_1_mps = time.time()\n",
    "#     mu_mps, x_mps, k_mps = MetodoDaPotenciaSimetrico(matriz, rows, cols, x, tol, max_it)\n",
    "#     tempo_2_mps = time.time()\n",
    "#     delta_mps = tempo_2_mps - tempo_1_mps\n",
    "#     tempos_mps.append(delta_mps)\n",
    "#     inter_mps.append(k_mps)\n",
    "#     raio_esp_mps.append(mu_mps)\n",
    "#     # Metodo da potencia inversa\n",
    "#     tempo_1_mpi = time.time()\n",
    "#     mu_mpi, x_mpi, k_mpi = MetodoDaPotenciaInversaNorma2(matriz, rows, cols, x, tol, max_it)\n",
    "#     tempo_2_mpi = time.time()\n",
    "#     delta_mpi = tempo_2_mpi - tempo_1_mpi\n",
    "#     tempos_mpi.append(delta_mpi)\n",
    "#     inter_mpi.append(k_mpi)\n",
    "#     raio_esp_mpi.append(mu_mpi)\n",
    "#     # Decomposicao QR para encontrar o espectro completo\n",
    "#     tempo_1_qr = time.time()\n",
    "#     T, U = DecomposiçãoQR(matriz)\n",
    "#     tempo_2_qr = time.time()\n",
    "#     delta_qr = tempo_2_qr - tempo_1_qr\n",
    "#     # Encontrando o maior e o menor auto-valor\n",
    "#     raio_espectral = 0\n",
    "#     menor_auto_valor = T[0][0]\n",
    "#     for i in range(len(T)):\n",
    "#         if abs(T[i][i]) > raio_espectral:\n",
    "#             raio_espectral = T[i][i]\n",
    "#         if abs(T[i][i]) < menor_auto_valor:\n",
    "#             menor_auto_valor = T[i][i]\n",
    "#     tempos_qr.append(delta_qr)\n",
    "#     raio_esp_qr.append(raio_espectral)\n",
    "#     menor_autoValor_qr.append(menor_auto_valor)\n",
    "#     print(\"\\nRaio espectral: \", raio_espectral)\n",
    "#     print(\"Menor auto-valor: \", raio_espectral)\n",
    "# df = pd.DataFrame({\"matrizes\": matrizes, \"dimensao\": tamanho, \"nao_nulos\": nao_nulos, \"esparsidade\": esparsidade,\n",
    "#                     \"tempos_metPotSim\": tempos_mps, \"interacoes_metPotSim\": inter_mps, \"raio_esp_metPotSim\": raio_esp_mps, \n",
    "#                     \"tempos_metPotInv\": tempos_mpi, \"interacoes_metPotInv\": inter_mpi, \"raio_esp_metPotInv\": raio_esp_mpi,\n",
    "#                     \"tempos_QR\": tempos_qr, \"raio_esp_QR\": raio_esp_qr, \"menor_autoValor_QR\": menor_autoValor_qr})\n",
    "# df.to_csv(\"analise_resultados.csv\")"
   ]
  },
  {
   "cell_type": "code",
   "execution_count": 46,
   "metadata": {},
   "outputs": [],
   "source": [
    "df = pd.read_csv(\"analise_resultados.csv\", index_col=0)"
   ]
  },
  {
   "cell_type": "code",
   "execution_count": 47,
   "metadata": {},
   "outputs": [
    {
     "data": {
      "text/html": [
       "<div>\n",
       "<style scoped>\n",
       "    .dataframe tbody tr th:only-of-type {\n",
       "        vertical-align: middle;\n",
       "    }\n",
       "\n",
       "    .dataframe tbody tr th {\n",
       "        vertical-align: top;\n",
       "    }\n",
       "\n",
       "    .dataframe thead th {\n",
       "        text-align: right;\n",
       "    }\n",
       "</style>\n",
       "<table border=\"1\" class=\"dataframe\">\n",
       "  <thead>\n",
       "    <tr style=\"text-align: right;\">\n",
       "      <th></th>\n",
       "      <th>matrizes</th>\n",
       "      <th>dimensao</th>\n",
       "      <th>nao_nulos</th>\n",
       "      <th>esparsidade</th>\n",
       "      <th>tempos_metPotSim</th>\n",
       "      <th>interacoes_metPotSim</th>\n",
       "      <th>raio_esp_metPotSim</th>\n",
       "      <th>tempos_metPotInv</th>\n",
       "      <th>interacoes_metPotInv</th>\n",
       "      <th>raio_esp_metPotInv</th>\n",
       "      <th>tempos_QR</th>\n",
       "      <th>raio_esp_QR</th>\n",
       "      <th>menor_autoValor_QR</th>\n",
       "      <th>erro_metPotSim</th>\n",
       "      <th>erro_metPotInv</th>\n",
       "    </tr>\n",
       "  </thead>\n",
       "  <tbody>\n",
       "    <tr>\n",
       "      <th>6</th>\n",
       "      <td>Trefethen_20/Trefethen_20.mtx</td>\n",
       "      <td>20</td>\n",
       "      <td>158</td>\n",
       "      <td>0.605000</td>\n",
       "      <td>0.093601</td>\n",
       "      <td>61</td>\n",
       "      <td>7.151243e+01</td>\n",
       "      <td>0.003727</td>\n",
       "      <td>7</td>\n",
       "      <td>7.151243e+01</td>\n",
       "      <td>0.010169</td>\n",
       "      <td>7.147996e+01</td>\n",
       "      <td>1.133524</td>\n",
       "      <td>0.032473</td>\n",
       "      <td>0.032473</td>\n",
       "    </tr>\n",
       "    <tr>\n",
       "      <th>3</th>\n",
       "      <td>mesh1em6/mesh1em6.mtx</td>\n",
       "      <td>48</td>\n",
       "      <td>306</td>\n",
       "      <td>0.867188</td>\n",
       "      <td>0.036452</td>\n",
       "      <td>33</td>\n",
       "      <td>7.205989e+00</td>\n",
       "      <td>0.013289</td>\n",
       "      <td>22</td>\n",
       "      <td>7.205989e+00</td>\n",
       "      <td>0.023155</td>\n",
       "      <td>7.203349e+00</td>\n",
       "      <td>1.179959</td>\n",
       "      <td>0.002640</td>\n",
       "      <td>0.002640</td>\n",
       "    </tr>\n",
       "    <tr>\n",
       "      <th>4</th>\n",
       "      <td>mesh1e1/mesh1e1.mtx</td>\n",
       "      <td>48</td>\n",
       "      <td>306</td>\n",
       "      <td>0.867188</td>\n",
       "      <td>0.043843</td>\n",
       "      <td>75</td>\n",
       "      <td>9.134157e+00</td>\n",
       "      <td>0.007684</td>\n",
       "      <td>27</td>\n",
       "      <td>9.134158e+00</td>\n",
       "      <td>0.010475</td>\n",
       "      <td>9.101201e+00</td>\n",
       "      <td>1.740094</td>\n",
       "      <td>0.032956</td>\n",
       "      <td>0.032957</td>\n",
       "    </tr>\n",
       "    <tr>\n",
       "      <th>8</th>\n",
       "      <td>nos4/nos4.mtx</td>\n",
       "      <td>100</td>\n",
       "      <td>594</td>\n",
       "      <td>0.940600</td>\n",
       "      <td>0.124050</td>\n",
       "      <td>86</td>\n",
       "      <td>8.491369e-01</td>\n",
       "      <td>0.039376</td>\n",
       "      <td>108</td>\n",
       "      <td>8.491364e-01</td>\n",
       "      <td>0.116445</td>\n",
       "      <td>8.450233e-01</td>\n",
       "      <td>0.000538</td>\n",
       "      <td>0.004114</td>\n",
       "      <td>0.004113</td>\n",
       "    </tr>\n",
       "    <tr>\n",
       "      <th>2</th>\n",
       "      <td>bcsstk05/bcsstk05.mtx</td>\n",
       "      <td>153</td>\n",
       "      <td>2423</td>\n",
       "      <td>0.896493</td>\n",
       "      <td>0.165879</td>\n",
       "      <td>45</td>\n",
       "      <td>6.197273e+06</td>\n",
       "      <td>0.020349</td>\n",
       "      <td>25</td>\n",
       "      <td>6.197285e+06</td>\n",
       "      <td>0.179633</td>\n",
       "      <td>6.197286e+06</td>\n",
       "      <td>437.612658</td>\n",
       "      <td>-13.521296</td>\n",
       "      <td>-1.388083</td>\n",
       "    </tr>\n",
       "    <tr>\n",
       "      <th>5</th>\n",
       "      <td>mesh2e1/mesh2e1.mtx</td>\n",
       "      <td>306</td>\n",
       "      <td>2018</td>\n",
       "      <td>0.978448</td>\n",
       "      <td>0.038594</td>\n",
       "      <td>16</td>\n",
       "      <td>3.813006e+02</td>\n",
       "      <td>0.025919</td>\n",
       "      <td>10</td>\n",
       "      <td>3.813006e+02</td>\n",
       "      <td>1.062819</td>\n",
       "      <td>3.813006e+02</td>\n",
       "      <td>1.326681</td>\n",
       "      <td>-0.000006</td>\n",
       "      <td>-0.000002</td>\n",
       "    </tr>\n",
       "    <tr>\n",
       "      <th>0</th>\n",
       "      <td>bcsstm20/bcsstm20.mtx</td>\n",
       "      <td>485</td>\n",
       "      <td>485</td>\n",
       "      <td>0.997938</td>\n",
       "      <td>0.282801</td>\n",
       "      <td>279</td>\n",
       "      <td>4.779572e+07</td>\n",
       "      <td>0.007532</td>\n",
       "      <td>2</td>\n",
       "      <td>4.785387e+07</td>\n",
       "      <td>2.131537</td>\n",
       "      <td>4.779555e+07</td>\n",
       "      <td>187.154177</td>\n",
       "      <td>164.810496</td>\n",
       "      <td>58321.295274</td>\n",
       "    </tr>\n",
       "    <tr>\n",
       "      <th>7</th>\n",
       "      <td>Trefethen_700/Trefethen_700.mtx</td>\n",
       "      <td>700</td>\n",
       "      <td>12654</td>\n",
       "      <td>0.974176</td>\n",
       "      <td>13.417531</td>\n",
       "      <td>301</td>\n",
       "      <td>5.278101e+03</td>\n",
       "      <td>1.132110</td>\n",
       "      <td>10</td>\n",
       "      <td>5.279287e+03</td>\n",
       "      <td>6.101471</td>\n",
       "      <td>5.275885e+03</td>\n",
       "      <td>1.120774</td>\n",
       "      <td>2.216547</td>\n",
       "      <td>3.402458</td>\n",
       "    </tr>\n",
       "    <tr>\n",
       "      <th>1</th>\n",
       "      <td>bcsstk10/bcsstk10.mtx</td>\n",
       "      <td>1086</td>\n",
       "      <td>22070</td>\n",
       "      <td>0.981287</td>\n",
       "      <td>3.004631</td>\n",
       "      <td>123</td>\n",
       "      <td>4.474293e+07</td>\n",
       "      <td>0.391634</td>\n",
       "      <td>53</td>\n",
       "      <td>4.474306e+07</td>\n",
       "      <td>19.543896</td>\n",
       "      <td>4.424715e+07</td>\n",
       "      <td>85.412274</td>\n",
       "      <td>495782.226277</td>\n",
       "      <td>495909.016469</td>\n",
       "    </tr>\n",
       "    <tr>\n",
       "      <th>9</th>\n",
       "      <td>nasa1824/nasa1824.mtx</td>\n",
       "      <td>1824</td>\n",
       "      <td>39208</td>\n",
       "      <td>0.988215</td>\n",
       "      <td>3.665092</td>\n",
       "      <td>84</td>\n",
       "      <td>2.121717e+07</td>\n",
       "      <td>2.521035</td>\n",
       "      <td>53</td>\n",
       "      <td>2.121717e+07</td>\n",
       "      <td>87.496205</td>\n",
       "      <td>2.121717e+07</td>\n",
       "      <td>11.190579</td>\n",
       "      <td>5.969403</td>\n",
       "      <td>5.792322</td>\n",
       "    </tr>\n",
       "  </tbody>\n",
       "</table>\n",
       "</div>"
      ],
      "text/plain": [
       "                          matrizes  dimensao  nao_nulos  esparsidade  \\\n",
       "6    Trefethen_20/Trefethen_20.mtx        20        158     0.605000   \n",
       "3            mesh1em6/mesh1em6.mtx        48        306     0.867188   \n",
       "4              mesh1e1/mesh1e1.mtx        48        306     0.867188   \n",
       "8                    nos4/nos4.mtx       100        594     0.940600   \n",
       "2            bcsstk05/bcsstk05.mtx       153       2423     0.896493   \n",
       "5              mesh2e1/mesh2e1.mtx       306       2018     0.978448   \n",
       "0            bcsstm20/bcsstm20.mtx       485        485     0.997938   \n",
       "7  Trefethen_700/Trefethen_700.mtx       700      12654     0.974176   \n",
       "1            bcsstk10/bcsstk10.mtx      1086      22070     0.981287   \n",
       "9            nasa1824/nasa1824.mtx      1824      39208     0.988215   \n",
       "\n",
       "   tempos_metPotSim  interacoes_metPotSim  raio_esp_metPotSim  \\\n",
       "6          0.093601                    61        7.151243e+01   \n",
       "3          0.036452                    33        7.205989e+00   \n",
       "4          0.043843                    75        9.134157e+00   \n",
       "8          0.124050                    86        8.491369e-01   \n",
       "2          0.165879                    45        6.197273e+06   \n",
       "5          0.038594                    16        3.813006e+02   \n",
       "0          0.282801                   279        4.779572e+07   \n",
       "7         13.417531                   301        5.278101e+03   \n",
       "1          3.004631                   123        4.474293e+07   \n",
       "9          3.665092                    84        2.121717e+07   \n",
       "\n",
       "   tempos_metPotInv  interacoes_metPotInv  raio_esp_metPotInv  tempos_QR  \\\n",
       "6          0.003727                     7        7.151243e+01   0.010169   \n",
       "3          0.013289                    22        7.205989e+00   0.023155   \n",
       "4          0.007684                    27        9.134158e+00   0.010475   \n",
       "8          0.039376                   108        8.491364e-01   0.116445   \n",
       "2          0.020349                    25        6.197285e+06   0.179633   \n",
       "5          0.025919                    10        3.813006e+02   1.062819   \n",
       "0          0.007532                     2        4.785387e+07   2.131537   \n",
       "7          1.132110                    10        5.279287e+03   6.101471   \n",
       "1          0.391634                    53        4.474306e+07  19.543896   \n",
       "9          2.521035                    53        2.121717e+07  87.496205   \n",
       "\n",
       "    raio_esp_QR  menor_autoValor_QR  erro_metPotSim  erro_metPotInv  \n",
       "6  7.147996e+01            1.133524        0.032473        0.032473  \n",
       "3  7.203349e+00            1.179959        0.002640        0.002640  \n",
       "4  9.101201e+00            1.740094        0.032956        0.032957  \n",
       "8  8.450233e-01            0.000538        0.004114        0.004113  \n",
       "2  6.197286e+06          437.612658      -13.521296       -1.388083  \n",
       "5  3.813006e+02            1.326681       -0.000006       -0.000002  \n",
       "0  4.779555e+07          187.154177      164.810496    58321.295274  \n",
       "7  5.275885e+03            1.120774        2.216547        3.402458  \n",
       "1  4.424715e+07           85.412274   495782.226277   495909.016469  \n",
       "9  2.121717e+07           11.190579        5.969403        5.792322  "
      ]
     },
     "execution_count": 47,
     "metadata": {},
     "output_type": "execute_result"
    }
   ],
   "source": [
    "df"
   ]
  },
  {
   "cell_type": "code",
   "execution_count": 38,
   "metadata": {},
   "outputs": [],
   "source": [
    "df[[\"matrize\"]]"
   ]
  }
 ],
 "metadata": {
  "kernelspec": {
   "display_name": "Python 3",
   "language": "python",
   "name": "python3"
  },
  "language_info": {
   "codemirror_mode": {
    "name": "ipython",
    "version": 3
   },
   "file_extension": ".py",
   "mimetype": "text/x-python",
   "name": "python",
   "nbconvert_exporter": "python",
   "pygments_lexer": "ipython3",
   "version": "3.7.3"
  },
  "toc": {
   "base_numbering": 1,
   "nav_menu": {},
   "number_sections": true,
   "sideBar": true,
   "skip_h1_title": false,
   "title_cell": "Table of Contents",
   "title_sidebar": "Contents",
   "toc_cell": false,
   "toc_position": {},
   "toc_section_display": true,
   "toc_window_display": false
  }
 },
 "nbformat": 4,
 "nbformat_minor": 2
}
